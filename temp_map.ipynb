{
 "metadata": {
  "language_info": {
   "codemirror_mode": {
    "name": "ipython",
    "version": 3
   },
   "file_extension": ".py",
   "mimetype": "text/x-python",
   "name": "python",
   "nbconvert_exporter": "python",
   "pygments_lexer": "ipython3",
   "version": "3.8.8"
  },
  "orig_nbformat": 2,
  "kernelspec": {
   "name": "python388jvsc74a57bd0c19faab1cd081a422e5f65da050e2b2bc306fae90c4181ff266839deed19893f",
   "display_name": "Python 3.8.8 64-bit ('stl38': conda)"
  }
 },
 "nbformat": 4,
 "nbformat_minor": 2,
 "cells": [
  {
   "cell_type": "code",
   "execution_count": 1,
   "metadata": {},
   "outputs": [],
   "source": [
    "import glob\n",
    "import os\n",
    "import pandas as pd\n",
    "import streamlit as st\n",
    "import random\n",
    "import geopandas as gpd\n",
    "import pyproj\n",
    "from plotly.offline import download_plotlyjs, init_notebook_mode, plot, iplot\n",
    "import plotly.offline as offline\n",
    "import plotly.express as px"
   ]
  },
  {
   "cell_type": "code",
   "execution_count": 89,
   "metadata": {},
   "outputs": [
    {
     "output_type": "execute_result",
     "data": {
      "text/plain": [
       "            OPC_file_name  sub_ids Past_Name_\n",
       "0     RANGE_1_15E_TGM.OPC        1        15E\n",
       "1     RANGE_2_24W_TGM.OPC        2        24W\n",
       "2     RANGE_3_26E_TGM.OPC        3        26E\n",
       "3    RANGE_4_25SE_TGM.OPC        4       25SE\n",
       "4     RANGE_5_31E_TGM.OPC        5        31E\n",
       "5     RANGE_6_19N_TGM.OPC        6        19N\n",
       "6     RANGE_7_7NW_TGM.OPC        7        7NW\n",
       "7      RANGE_8_5E_TGM.OPC        8         5E\n",
       "8     RANGE_9_17N_TGM.OPC        9        17N\n",
       "9   RANGE_10_20SE_TGM.OPC       10       20SE\n",
       "10   RANGE_11_10S_AGM.OPC       11        10S\n",
       "11   RANGE_12_21N_AGM.OPC       12        21N\n",
       "12   RANGE_13_26W_AGM.OPC       13        26W\n",
       "13  RANGE_14_25NW_AGM.OPC       14       25NW\n",
       "14   RANGE_15_31W_AGM.OPC       15        31W\n",
       "15   RANGE_16_18S_AGM.OPC       16        18S\n",
       "16   RANGE_17_7SE_AGM.OPC       17        7SE\n",
       "17    RANGE_18_8E_AGM.OPC       18         8E\n",
       "18   RANGE_19_17S_AGM.OPC       19        17S\n",
       "19  RANGE_20_20NW_AGM.OPC       20       20NW"
      ],
      "text/html": "<div>\n<style scoped>\n    .dataframe tbody tr th:only-of-type {\n        vertical-align: middle;\n    }\n\n    .dataframe tbody tr th {\n        vertical-align: top;\n    }\n\n    .dataframe thead th {\n        text-align: right;\n    }\n</style>\n<table border=\"1\" class=\"dataframe\">\n  <thead>\n    <tr style=\"text-align: right;\">\n      <th></th>\n      <th>OPC_file_name</th>\n      <th>sub_ids</th>\n      <th>Past_Name_</th>\n    </tr>\n  </thead>\n  <tbody>\n    <tr>\n      <th>0</th>\n      <td>RANGE_1_15E_TGM.OPC</td>\n      <td>1</td>\n      <td>15E</td>\n    </tr>\n    <tr>\n      <th>1</th>\n      <td>RANGE_2_24W_TGM.OPC</td>\n      <td>2</td>\n      <td>24W</td>\n    </tr>\n    <tr>\n      <th>2</th>\n      <td>RANGE_3_26E_TGM.OPC</td>\n      <td>3</td>\n      <td>26E</td>\n    </tr>\n    <tr>\n      <th>3</th>\n      <td>RANGE_4_25SE_TGM.OPC</td>\n      <td>4</td>\n      <td>25SE</td>\n    </tr>\n    <tr>\n      <th>4</th>\n      <td>RANGE_5_31E_TGM.OPC</td>\n      <td>5</td>\n      <td>31E</td>\n    </tr>\n    <tr>\n      <th>5</th>\n      <td>RANGE_6_19N_TGM.OPC</td>\n      <td>6</td>\n      <td>19N</td>\n    </tr>\n    <tr>\n      <th>6</th>\n      <td>RANGE_7_7NW_TGM.OPC</td>\n      <td>7</td>\n      <td>7NW</td>\n    </tr>\n    <tr>\n      <th>7</th>\n      <td>RANGE_8_5E_TGM.OPC</td>\n      <td>8</td>\n      <td>5E</td>\n    </tr>\n    <tr>\n      <th>8</th>\n      <td>RANGE_9_17N_TGM.OPC</td>\n      <td>9</td>\n      <td>17N</td>\n    </tr>\n    <tr>\n      <th>9</th>\n      <td>RANGE_10_20SE_TGM.OPC</td>\n      <td>10</td>\n      <td>20SE</td>\n    </tr>\n    <tr>\n      <th>10</th>\n      <td>RANGE_11_10S_AGM.OPC</td>\n      <td>11</td>\n      <td>10S</td>\n    </tr>\n    <tr>\n      <th>11</th>\n      <td>RANGE_12_21N_AGM.OPC</td>\n      <td>12</td>\n      <td>21N</td>\n    </tr>\n    <tr>\n      <th>12</th>\n      <td>RANGE_13_26W_AGM.OPC</td>\n      <td>13</td>\n      <td>26W</td>\n    </tr>\n    <tr>\n      <th>13</th>\n      <td>RANGE_14_25NW_AGM.OPC</td>\n      <td>14</td>\n      <td>25NW</td>\n    </tr>\n    <tr>\n      <th>14</th>\n      <td>RANGE_15_31W_AGM.OPC</td>\n      <td>15</td>\n      <td>31W</td>\n    </tr>\n    <tr>\n      <th>15</th>\n      <td>RANGE_16_18S_AGM.OPC</td>\n      <td>16</td>\n      <td>18S</td>\n    </tr>\n    <tr>\n      <th>16</th>\n      <td>RANGE_17_7SE_AGM.OPC</td>\n      <td>17</td>\n      <td>7SE</td>\n    </tr>\n    <tr>\n      <th>17</th>\n      <td>RANGE_18_8E_AGM.OPC</td>\n      <td>18</td>\n      <td>8E</td>\n    </tr>\n    <tr>\n      <th>18</th>\n      <td>RANGE_19_17S_AGM.OPC</td>\n      <td>19</td>\n      <td>17S</td>\n    </tr>\n    <tr>\n      <th>19</th>\n      <td>RANGE_20_20NW_AGM.OPC</td>\n      <td>20</td>\n      <td>20NW</td>\n    </tr>\n  </tbody>\n</table>\n</div>"
     },
     "metadata": {},
     "execution_count": 89
    }
   ],
   "source": [
    "sub_link = pd.read_csv(\"./resources/subareaID.txt\", sep='\\s+')\n",
    "sub_link.rename({'pasture_name': 'Past_Name_'}, axis=1, inplace=True)\n",
    "sub_link"
   ]
  },
  {
   "cell_type": "code",
   "execution_count": 90,
   "metadata": {},
   "outputs": [
    {
     "output_type": "execute_result",
     "data": {
      "text/plain": [
       "   OBJECTID  Join_Count  TARGET_FID Past_Name_           Ownership Treatment  \\\n",
       "0         7           1           6       25NW  ARS_owned_operated       AGM   \n",
       "1        22           1          21        18S  ARS_owned_operated       AGM   \n",
       "2        26           1          25         NH  ARS_owned_operated       AGM   \n",
       "3        34           1          33        7SE  ARS_owned_operated       AGM   \n",
       "4        49           1          48        31W  ARS_owned_operated       AGM   \n",
       "5        54           1          53        21N  ARS_owned_operated       AGM   \n",
       "6        55           1          54        17S  ARS_owned_operated       AGM   \n",
       "7        57           1          56         8E  ARS_owned_operated       AGM   \n",
       "8        66           1          65       20NW  ARS_owned_operated       AGM   \n",
       "9        75           1          74        26W  ARS_owned_operated       AGM   \n",
       "\n",
       "    Shape_Leng    Shape_Area  \\\n",
       "0  5452.238777  1.302836e+06   \n",
       "1  4857.757709  1.319548e+06   \n",
       "2  5360.138858  1.229997e+06   \n",
       "3  5440.046074  1.227656e+06   \n",
       "4  5059.512852  1.488702e+06   \n",
       "5  4756.874982  1.257200e+06   \n",
       "6  4785.000434  1.287060e+06   \n",
       "7  4766.958013  1.271737e+06   \n",
       "8  5467.264149  1.285627e+06   \n",
       "9  3165.892719  6.262205e+05   \n",
       "\n",
       "                                            geometry  \n",
       "0  POLYGON ((522426.013 4516343.094, 522408.312 4...  \n",
       "1  POLYGON ((525626.018 4520389.857, 525636.546 4...  \n",
       "2  POLYGON ((520004.487 4521929.000, 520002.242 4...  \n",
       "3  POLYGON ((525614.295 4521784.500, 525619.418 4...  \n",
       "4  POLYGON ((524899.812 4516327.000, 524981.438 4...  \n",
       "5  POLYGON ((519167.859 4519542.250, 519181.506 4...  \n",
       "6  POLYGON ((527222.562 4519537.000, 527208.500 4...  \n",
       "7  POLYGON ((527222.938 4521386.500, 527214.119 4...  \n",
       "8  POLYGON ((527243.560 4519536.809, 525644.497 4...  \n",
       "9  POLYGON ((520843.344 4516292.000, 520836.813 4...  "
      ],
      "text/html": "<div>\n<style scoped>\n    .dataframe tbody tr th:only-of-type {\n        vertical-align: middle;\n    }\n\n    .dataframe tbody tr th {\n        vertical-align: top;\n    }\n\n    .dataframe thead th {\n        text-align: right;\n    }\n</style>\n<table border=\"1\" class=\"dataframe\">\n  <thead>\n    <tr style=\"text-align: right;\">\n      <th></th>\n      <th>OBJECTID</th>\n      <th>Join_Count</th>\n      <th>TARGET_FID</th>\n      <th>Past_Name_</th>\n      <th>Ownership</th>\n      <th>Treatment</th>\n      <th>Shape_Leng</th>\n      <th>Shape_Area</th>\n      <th>geometry</th>\n    </tr>\n  </thead>\n  <tbody>\n    <tr>\n      <th>0</th>\n      <td>7</td>\n      <td>1</td>\n      <td>6</td>\n      <td>25NW</td>\n      <td>ARS_owned_operated</td>\n      <td>AGM</td>\n      <td>5452.238777</td>\n      <td>1.302836e+06</td>\n      <td>POLYGON ((522426.013 4516343.094, 522408.312 4...</td>\n    </tr>\n    <tr>\n      <th>1</th>\n      <td>22</td>\n      <td>1</td>\n      <td>21</td>\n      <td>18S</td>\n      <td>ARS_owned_operated</td>\n      <td>AGM</td>\n      <td>4857.757709</td>\n      <td>1.319548e+06</td>\n      <td>POLYGON ((525626.018 4520389.857, 525636.546 4...</td>\n    </tr>\n    <tr>\n      <th>2</th>\n      <td>26</td>\n      <td>1</td>\n      <td>25</td>\n      <td>NH</td>\n      <td>ARS_owned_operated</td>\n      <td>AGM</td>\n      <td>5360.138858</td>\n      <td>1.229997e+06</td>\n      <td>POLYGON ((520004.487 4521929.000, 520002.242 4...</td>\n    </tr>\n    <tr>\n      <th>3</th>\n      <td>34</td>\n      <td>1</td>\n      <td>33</td>\n      <td>7SE</td>\n      <td>ARS_owned_operated</td>\n      <td>AGM</td>\n      <td>5440.046074</td>\n      <td>1.227656e+06</td>\n      <td>POLYGON ((525614.295 4521784.500, 525619.418 4...</td>\n    </tr>\n    <tr>\n      <th>4</th>\n      <td>49</td>\n      <td>1</td>\n      <td>48</td>\n      <td>31W</td>\n      <td>ARS_owned_operated</td>\n      <td>AGM</td>\n      <td>5059.512852</td>\n      <td>1.488702e+06</td>\n      <td>POLYGON ((524899.812 4516327.000, 524981.438 4...</td>\n    </tr>\n    <tr>\n      <th>5</th>\n      <td>54</td>\n      <td>1</td>\n      <td>53</td>\n      <td>21N</td>\n      <td>ARS_owned_operated</td>\n      <td>AGM</td>\n      <td>4756.874982</td>\n      <td>1.257200e+06</td>\n      <td>POLYGON ((519167.859 4519542.250, 519181.506 4...</td>\n    </tr>\n    <tr>\n      <th>6</th>\n      <td>55</td>\n      <td>1</td>\n      <td>54</td>\n      <td>17S</td>\n      <td>ARS_owned_operated</td>\n      <td>AGM</td>\n      <td>4785.000434</td>\n      <td>1.287060e+06</td>\n      <td>POLYGON ((527222.562 4519537.000, 527208.500 4...</td>\n    </tr>\n    <tr>\n      <th>7</th>\n      <td>57</td>\n      <td>1</td>\n      <td>56</td>\n      <td>8E</td>\n      <td>ARS_owned_operated</td>\n      <td>AGM</td>\n      <td>4766.958013</td>\n      <td>1.271737e+06</td>\n      <td>POLYGON ((527222.938 4521386.500, 527214.119 4...</td>\n    </tr>\n    <tr>\n      <th>8</th>\n      <td>66</td>\n      <td>1</td>\n      <td>65</td>\n      <td>20NW</td>\n      <td>ARS_owned_operated</td>\n      <td>AGM</td>\n      <td>5467.264149</td>\n      <td>1.285627e+06</td>\n      <td>POLYGON ((527243.560 4519536.809, 525644.497 4...</td>\n    </tr>\n    <tr>\n      <th>9</th>\n      <td>75</td>\n      <td>1</td>\n      <td>74</td>\n      <td>26W</td>\n      <td>ARS_owned_operated</td>\n      <td>AGM</td>\n      <td>3165.892719</td>\n      <td>6.262205e+05</td>\n      <td>POLYGON ((520843.344 4516292.000, 520836.813 4...</td>\n    </tr>\n  </tbody>\n</table>\n</div>"
     },
     "metadata": {},
     "execution_count": 90
    }
   ],
   "source": [
    "shp = gpd.read_file(\"./resources/AGM_pastures.shp\")\n",
    "shp"
   ]
  },
  {
   "cell_type": "code",
   "execution_count": null,
   "metadata": {},
   "outputs": [],
   "source": []
  },
  {
   "cell_type": "code",
   "execution_count": 91,
   "metadata": {},
   "outputs": [
    {
     "output_type": "execute_result",
     "data": {
      "text/plain": [
       "0    522952.957611\n",
       "1    524839.825086\n",
       "2    525095.397799\n",
       "3    524517.067573\n",
       "4    518397.274735\n",
       "5    526410.227559\n",
       "6    526828.983018\n",
       "7    526175.250183\n",
       "8    521229.714652\n",
       "dtype: float64"
      ]
     },
     "metadata": {},
     "execution_count": 91
    }
   ],
   "source": [
    "shp = shp.merge(sub_link, on='Past_Name_')\n",
    "shp.centroid.x"
   ]
  },
  {
   "cell_type": "code",
   "execution_count": 93,
   "metadata": {},
   "outputs": [],
   "source": [
    "subs_list = shp.sub_ids"
   ]
  },
  {
   "cell_type": "code",
   "execution_count": 94,
   "metadata": {},
   "outputs": [],
   "source": [
    "acy_df = pd.read_csv(\n",
    "            \"./resources/CONUNN_AGM.ACY\",\n",
    "            delim_whitespace=True,\n",
    "            skiprows=8,\n",
    "            # nrows=1,\n",
    "            header=0,\n",
    "            usecols=['SA#', 'YR', 'BIOM']\n",
    "            )\n",
    "subids = acy_df['SA#'].unique()"
   ]
  },
  {
   "cell_type": "code",
   "execution_count": 95,
   "metadata": {},
   "outputs": [],
   "source": [
    "dff = pd.DataFrame()\n",
    "for i in subids:\n",
    "    sacy_df = acy_df.loc[acy_df['SA#'] == i]\n",
    "    sacy_df = sacy_df.groupby('YR').sum()\n",
    "    sacy_df.drop('SA#', axis=1, inplace=True)\n",
    "    sacy_df.rename({'BIOM': i}, axis=1, inplace=True)\n",
    "    # sacy_df.index = sacy_df['YR']\n",
    "    dff = pd.concat([dff, sacy_df], axis=1)\n",
    "\n"
   ]
  },
  {
   "cell_type": "code",
   "execution_count": 96,
   "metadata": {},
   "outputs": [],
   "source": [
    "dff = dff.T\n",
    "dff.index.name = 'sub_ids'"
   ]
  },
  {
   "cell_type": "code",
   "execution_count": 97,
   "metadata": {},
   "outputs": [
    {
     "output_type": "execute_result",
     "data": {
      "text/plain": [
       "Int64Index([1, 2, 3, 4, 5, 6, 7, 8, 9, 10, 11, 12, 13, 14, 15, 16, 17, 18, 19,\n",
       "            20],\n",
       "           dtype='int64', name='sub_ids')"
      ]
     },
     "metadata": {},
     "execution_count": 97
    }
   ],
   "source": [
    "dff.index"
   ]
  },
  {
   "cell_type": "code",
   "execution_count": 110,
   "metadata": {},
   "outputs": [
    {
     "output_type": "execute_result",
     "data": {
      "text/plain": [
       "2008"
      ]
     },
     "metadata": {},
     "execution_count": 110
    }
   ],
   "source": [
    "dff.columns.min()"
   ]
  },
  {
   "cell_type": "code",
   "execution_count": 106,
   "metadata": {},
   "outputs": [
    {
     "output_type": "execute_result",
     "data": {
      "text/plain": [
       "1.46"
      ]
     },
     "metadata": {},
     "execution_count": 106
    }
   ],
   "source": [
    "dff.min().min()"
   ]
  },
  {
   "cell_type": "code",
   "execution_count": 99,
   "metadata": {},
   "outputs": [
    {
     "output_type": "execute_result",
     "data": {
      "text/plain": [
       "   OBJECTID  Join_Count  TARGET_FID Past_Name_           Ownership Treatment  \\\n",
       "0         7           1           6       25NW  ARS_owned_operated       AGM   \n",
       "1        22           1          21        18S  ARS_owned_operated       AGM   \n",
       "2        34           1          33        7SE  ARS_owned_operated       AGM   \n",
       "3        49           1          48        31W  ARS_owned_operated       AGM   \n",
       "4        54           1          53        21N  ARS_owned_operated       AGM   \n",
       "5        55           1          54        17S  ARS_owned_operated       AGM   \n",
       "6        57           1          56         8E  ARS_owned_operated       AGM   \n",
       "7        66           1          65       20NW  ARS_owned_operated       AGM   \n",
       "8        75           1          74        26W  ARS_owned_operated       AGM   \n",
       "\n",
       "    Shape_Leng    Shape_Area  \\\n",
       "0  5452.238777  1.302836e+06   \n",
       "1  4857.757709  1.319548e+06   \n",
       "2  5440.046074  1.227656e+06   \n",
       "3  5059.512852  1.488702e+06   \n",
       "4  4756.874982  1.257200e+06   \n",
       "5  4785.000434  1.287060e+06   \n",
       "6  4766.958013  1.271737e+06   \n",
       "7  5467.264149  1.285627e+06   \n",
       "8  3165.892719  6.262205e+05   \n",
       "\n",
       "                                            geometry          OPC_file_name  \\\n",
       "0  POLYGON ((522426.013 4516343.094, 522408.312 4...  RANGE_14_25NW_AGM.OPC   \n",
       "1  POLYGON ((525626.018 4520389.857, 525636.546 4...   RANGE_16_18S_AGM.OPC   \n",
       "2  POLYGON ((525614.295 4521784.500, 525619.418 4...   RANGE_17_7SE_AGM.OPC   \n",
       "3  POLYGON ((524899.812 4516327.000, 524981.438 4...   RANGE_15_31W_AGM.OPC   \n",
       "4  POLYGON ((519167.859 4519542.250, 519181.506 4...   RANGE_12_21N_AGM.OPC   \n",
       "5  POLYGON ((527222.562 4519537.000, 527208.500 4...   RANGE_19_17S_AGM.OPC   \n",
       "6  POLYGON ((527222.938 4521386.500, 527214.119 4...    RANGE_18_8E_AGM.OPC   \n",
       "7  POLYGON ((527243.560 4519536.809, 525644.497 4...  RANGE_20_20NW_AGM.OPC   \n",
       "8  POLYGON ((520843.344 4516292.000, 520836.813 4...   RANGE_13_26W_AGM.OPC   \n",
       "\n",
       "   ...   2011   2012   2013   2014   2015   2016   2017   2018   2019   2020  \n",
       "0  ...   5.75   5.53   5.47   6.00   6.04   5.99   5.72   5.31   5.39   4.92  \n",
       "1  ...  11.20  11.42  12.57  13.55  13.66  14.49  14.51  14.86  15.84  15.28  \n",
       "2  ...   9.36   9.53  10.67  11.99  12.60  12.94  13.66  13.98  14.76  14.69  \n",
       "3  ...   8.28   8.53  10.00  11.21  11.63  11.75  12.51  12.61  12.96  12.90  \n",
       "4  ...   8.78   8.65   8.86  10.34   9.99  10.28  11.00  11.50  11.62  11.43  \n",
       "5  ...   9.14   9.57  10.82  12.26  12.67  13.36  14.09  14.54  15.08  15.28  \n",
       "6  ...  10.66  11.01  12.69  14.08  14.87  15.38  16.27  16.52  17.26  17.10  \n",
       "7  ...   8.03   7.64   7.20   8.85   9.01   9.54   9.91   9.92  10.23  10.04  \n",
       "8  ...   6.66   6.17   6.03   7.31   6.90   6.70   6.42   6.22   6.29   6.06  \n",
       "\n",
       "[9 rows x 24 columns]"
      ],
      "text/html": "<div>\n<style scoped>\n    .dataframe tbody tr th:only-of-type {\n        vertical-align: middle;\n    }\n\n    .dataframe tbody tr th {\n        vertical-align: top;\n    }\n\n    .dataframe thead th {\n        text-align: right;\n    }\n</style>\n<table border=\"1\" class=\"dataframe\">\n  <thead>\n    <tr style=\"text-align: right;\">\n      <th></th>\n      <th>OBJECTID</th>\n      <th>Join_Count</th>\n      <th>TARGET_FID</th>\n      <th>Past_Name_</th>\n      <th>Ownership</th>\n      <th>Treatment</th>\n      <th>Shape_Leng</th>\n      <th>Shape_Area</th>\n      <th>geometry</th>\n      <th>OPC_file_name</th>\n      <th>...</th>\n      <th>2011</th>\n      <th>2012</th>\n      <th>2013</th>\n      <th>2014</th>\n      <th>2015</th>\n      <th>2016</th>\n      <th>2017</th>\n      <th>2018</th>\n      <th>2019</th>\n      <th>2020</th>\n    </tr>\n  </thead>\n  <tbody>\n    <tr>\n      <th>0</th>\n      <td>7</td>\n      <td>1</td>\n      <td>6</td>\n      <td>25NW</td>\n      <td>ARS_owned_operated</td>\n      <td>AGM</td>\n      <td>5452.238777</td>\n      <td>1.302836e+06</td>\n      <td>POLYGON ((522426.013 4516343.094, 522408.312 4...</td>\n      <td>RANGE_14_25NW_AGM.OPC</td>\n      <td>...</td>\n      <td>5.75</td>\n      <td>5.53</td>\n      <td>5.47</td>\n      <td>6.00</td>\n      <td>6.04</td>\n      <td>5.99</td>\n      <td>5.72</td>\n      <td>5.31</td>\n      <td>5.39</td>\n      <td>4.92</td>\n    </tr>\n    <tr>\n      <th>1</th>\n      <td>22</td>\n      <td>1</td>\n      <td>21</td>\n      <td>18S</td>\n      <td>ARS_owned_operated</td>\n      <td>AGM</td>\n      <td>4857.757709</td>\n      <td>1.319548e+06</td>\n      <td>POLYGON ((525626.018 4520389.857, 525636.546 4...</td>\n      <td>RANGE_16_18S_AGM.OPC</td>\n      <td>...</td>\n      <td>11.20</td>\n      <td>11.42</td>\n      <td>12.57</td>\n      <td>13.55</td>\n      <td>13.66</td>\n      <td>14.49</td>\n      <td>14.51</td>\n      <td>14.86</td>\n      <td>15.84</td>\n      <td>15.28</td>\n    </tr>\n    <tr>\n      <th>2</th>\n      <td>34</td>\n      <td>1</td>\n      <td>33</td>\n      <td>7SE</td>\n      <td>ARS_owned_operated</td>\n      <td>AGM</td>\n      <td>5440.046074</td>\n      <td>1.227656e+06</td>\n      <td>POLYGON ((525614.295 4521784.500, 525619.418 4...</td>\n      <td>RANGE_17_7SE_AGM.OPC</td>\n      <td>...</td>\n      <td>9.36</td>\n      <td>9.53</td>\n      <td>10.67</td>\n      <td>11.99</td>\n      <td>12.60</td>\n      <td>12.94</td>\n      <td>13.66</td>\n      <td>13.98</td>\n      <td>14.76</td>\n      <td>14.69</td>\n    </tr>\n    <tr>\n      <th>3</th>\n      <td>49</td>\n      <td>1</td>\n      <td>48</td>\n      <td>31W</td>\n      <td>ARS_owned_operated</td>\n      <td>AGM</td>\n      <td>5059.512852</td>\n      <td>1.488702e+06</td>\n      <td>POLYGON ((524899.812 4516327.000, 524981.438 4...</td>\n      <td>RANGE_15_31W_AGM.OPC</td>\n      <td>...</td>\n      <td>8.28</td>\n      <td>8.53</td>\n      <td>10.00</td>\n      <td>11.21</td>\n      <td>11.63</td>\n      <td>11.75</td>\n      <td>12.51</td>\n      <td>12.61</td>\n      <td>12.96</td>\n      <td>12.90</td>\n    </tr>\n    <tr>\n      <th>4</th>\n      <td>54</td>\n      <td>1</td>\n      <td>53</td>\n      <td>21N</td>\n      <td>ARS_owned_operated</td>\n      <td>AGM</td>\n      <td>4756.874982</td>\n      <td>1.257200e+06</td>\n      <td>POLYGON ((519167.859 4519542.250, 519181.506 4...</td>\n      <td>RANGE_12_21N_AGM.OPC</td>\n      <td>...</td>\n      <td>8.78</td>\n      <td>8.65</td>\n      <td>8.86</td>\n      <td>10.34</td>\n      <td>9.99</td>\n      <td>10.28</td>\n      <td>11.00</td>\n      <td>11.50</td>\n      <td>11.62</td>\n      <td>11.43</td>\n    </tr>\n    <tr>\n      <th>5</th>\n      <td>55</td>\n      <td>1</td>\n      <td>54</td>\n      <td>17S</td>\n      <td>ARS_owned_operated</td>\n      <td>AGM</td>\n      <td>4785.000434</td>\n      <td>1.287060e+06</td>\n      <td>POLYGON ((527222.562 4519537.000, 527208.500 4...</td>\n      <td>RANGE_19_17S_AGM.OPC</td>\n      <td>...</td>\n      <td>9.14</td>\n      <td>9.57</td>\n      <td>10.82</td>\n      <td>12.26</td>\n      <td>12.67</td>\n      <td>13.36</td>\n      <td>14.09</td>\n      <td>14.54</td>\n      <td>15.08</td>\n      <td>15.28</td>\n    </tr>\n    <tr>\n      <th>6</th>\n      <td>57</td>\n      <td>1</td>\n      <td>56</td>\n      <td>8E</td>\n      <td>ARS_owned_operated</td>\n      <td>AGM</td>\n      <td>4766.958013</td>\n      <td>1.271737e+06</td>\n      <td>POLYGON ((527222.938 4521386.500, 527214.119 4...</td>\n      <td>RANGE_18_8E_AGM.OPC</td>\n      <td>...</td>\n      <td>10.66</td>\n      <td>11.01</td>\n      <td>12.69</td>\n      <td>14.08</td>\n      <td>14.87</td>\n      <td>15.38</td>\n      <td>16.27</td>\n      <td>16.52</td>\n      <td>17.26</td>\n      <td>17.10</td>\n    </tr>\n    <tr>\n      <th>7</th>\n      <td>66</td>\n      <td>1</td>\n      <td>65</td>\n      <td>20NW</td>\n      <td>ARS_owned_operated</td>\n      <td>AGM</td>\n      <td>5467.264149</td>\n      <td>1.285627e+06</td>\n      <td>POLYGON ((527243.560 4519536.809, 525644.497 4...</td>\n      <td>RANGE_20_20NW_AGM.OPC</td>\n      <td>...</td>\n      <td>8.03</td>\n      <td>7.64</td>\n      <td>7.20</td>\n      <td>8.85</td>\n      <td>9.01</td>\n      <td>9.54</td>\n      <td>9.91</td>\n      <td>9.92</td>\n      <td>10.23</td>\n      <td>10.04</td>\n    </tr>\n    <tr>\n      <th>8</th>\n      <td>75</td>\n      <td>1</td>\n      <td>74</td>\n      <td>26W</td>\n      <td>ARS_owned_operated</td>\n      <td>AGM</td>\n      <td>3165.892719</td>\n      <td>6.262205e+05</td>\n      <td>POLYGON ((520843.344 4516292.000, 520836.813 4...</td>\n      <td>RANGE_13_26W_AGM.OPC</td>\n      <td>...</td>\n      <td>6.66</td>\n      <td>6.17</td>\n      <td>6.03</td>\n      <td>7.31</td>\n      <td>6.90</td>\n      <td>6.70</td>\n      <td>6.42</td>\n      <td>6.22</td>\n      <td>6.29</td>\n      <td>6.06</td>\n    </tr>\n  </tbody>\n</table>\n<p>9 rows × 24 columns</p>\n</div>"
     },
     "metadata": {},
     "execution_count": 99
    }
   ],
   "source": [
    "shp = shp.merge(dff, on='sub_ids')\n",
    "shp"
   ]
  },
  {
   "cell_type": "code",
   "execution_count": 100,
   "metadata": {},
   "outputs": [
    {
     "output_type": "execute_result",
     "data": {
      "text/plain": [
       "0    14\n",
       "1    16\n",
       "2    17\n",
       "3    15\n",
       "4    12\n",
       "5    19\n",
       "6    18\n",
       "7    20\n",
       "8    13\n",
       "Name: sub_ids, dtype: int64"
      ]
     },
     "metadata": {},
     "execution_count": 100
    }
   ],
   "source": [
    "shp['sub_ids']"
   ]
  },
  {
   "cell_type": "code",
   "execution_count": 102,
   "metadata": {},
   "outputs": [
    {
     "output_type": "display_data",
     "data": {
      "application/vnd.plotly.v1+json": {
       "config": {
        "plotlyServerURL": "https://plot.ly"
       },
       "data": [
        {
         "coloraxis": "coloraxis",
         "geo": "geo",
         "geojson": {
          "bbox": [
           -104.79107047135702,
           40.7831790075182,
           -104.67690990901018,
           40.85554414598038
          ],
          "features": [
           {
            "bbox": [
             -104.73436676922229,
             40.7977794723166,
             -104.71544219214269,
             40.81228231660569
            ],
            "geometry": {
             "coordinates": [
              [
               [
                -104.7341569481855,
                40.79777983230326
               ],
               [
                -104.73436676922229,
                40.7977794723166
               ],
               [
                -104.73426376600163,
                40.804992369958114
               ],
               [
                -104.73426218171237,
                40.805148213883285
               ],
               [
                -104.7341797710395,
                40.81227183557529
               ],
               [
                -104.73398065124073,
                40.81228231660569
               ],
               [
                -104.72488107722441,
                40.81215738001259
               ],
               [
                -104.71544219214269,
                40.8120205476812
               ],
               [
                -104.71547286894558,
                40.81180603324051
               ],
               [
                -104.72432773288944,
                40.80505369776914
               ],
               [
                -104.72475169234248,
                40.804785830515286
               ],
               [
                -104.7341562361997,
                40.79794404196149
               ],
               [
                -104.7341569481855,
                40.79777983230326
               ]
              ]
             ],
             "type": "Polygon"
            },
            "id": "14",
            "properties": {},
            "type": "Feature"
           },
           {
            "bbox": [
             -104.71494561241343,
             40.826468418195475,
             -104.69596734364848,
             40.834141069762694
            ],
            "geometry": {
             "coordinates": [
              [
               [
                -104.69605749915134,
                40.834141069762694
               ],
               [
                -104.69596734364848,
                40.82654264239537
               ],
               [
                -104.70534657220107,
                40.82656839736298
               ],
               [
                -104.70548691197777,
                40.826468418195475
               ],
               [
                -104.70563395518712,
                40.826631589550914
               ],
               [
                -104.71491348612808,
                40.82672696056837
               ],
               [
                -104.71494561241343,
                40.83402391569555
               ],
               [
                -104.71094045737455,
                40.83401395011822
               ],
               [
                -104.70888466214073,
                40.83405832756357
               ],
               [
                -104.7054591110509,
                40.83406764974924
               ],
               [
                -104.70086743981265,
                40.834091869487764
               ],
               [
                -104.69605749915134,
                40.834141069762694
               ]
              ]
             ],
             "type": "Polygon"
            },
            "id": "16",
            "properties": {},
            "type": "Feature"
           },
           {
            "bbox": [
             -104.71491041139788,
             40.84105925656202,
             -104.69610418272978,
             40.85548742881782
            ],
            "geometry": {
             "coordinates": [
              [
               [
                -104.6961391756271,
                40.84670488453608
               ],
               [
                -104.69610418272978,
                40.84105925656202
               ],
               [
                -104.70213467822404,
                40.84113076786923
               ],
               [
                -104.70519060984643,
                40.841130359643095
               ],
               [
                -104.71145296125087,
                40.8411319298516
               ],
               [
                -104.71236275431819,
                40.841136984548555
               ],
               [
                -104.71491041139788,
                40.841181063912245
               ],
               [
                -104.70533744732137,
                40.847961966639055
               ],
               [
                -104.70534228205922,
                40.848086655172104
               ],
               [
                -104.69655995471942,
                40.85524256186314
               ],
               [
                -104.69654532022592,
                40.85548742881782
               ],
               [
                -104.6962508101525,
                40.855464098352016
               ],
               [
                -104.69616992945842,
                40.8490156352783
               ],
               [
                -104.69616309503738,
                40.848471248794056
               ],
               [
                -104.6961391756271,
                40.84670488453608
               ]
              ]
             ],
             "type": "Polygon"
            },
            "id": "17",
            "properties": {},
            "type": "Feature"
           },
           {
            "bbox": [
             -104.71490579865895,
             40.7831790075182,
             -104.70386555933642,
             40.79770600422367
            ],
            "geometry": {
             "coordinates": [
              [
               [
                -104.70483295494226,
                40.79756356634715
               ],
               [
                -104.70386555933642,
                40.79751829711793
               ],
               [
                -104.70386624988555,
                40.79736290159706
               ],
               [
                -104.70388603872716,
                40.791074988833294
               ],
               [
                -104.70389266587239,
                40.7831790075182
               ],
               [
                -104.7149038229405,
                40.78322925799626
               ],
               [
                -104.71490391085915,
                40.78455126457066
               ],
               [
                -104.71490579865895,
                40.79770600422367
               ],
               [
                -104.70483295494226,
                40.79756356634715
               ]
              ]
             ],
             "type": "Polygon"
            },
            "id": "15",
            "properties": {},
            "type": "Feature"
           },
           {
            "bbox": [
             -104.79107047135702,
             40.819324842982965,
             -104.77254414875128,
             40.82678641223343
            ],
            "geometry": {
             "coordinates": [
              [
               [
                -104.77268118390711,
                40.82668182941755
               ],
               [
                -104.77254414875128,
                40.81942254574306
               ],
               [
                -104.7799711007872,
                40.819414836944766
               ],
               [
                -104.78239414713842,
                40.819324842982965
               ],
               [
                -104.78298848412783,
                40.81979440504327
               ],
               [
                -104.78329672703681,
                40.81958778862407
               ],
               [
                -104.78727903572862,
                40.81940602079823
               ],
               [
                -104.7909879193121,
                40.81946144525178
               ],
               [
                -104.79107047135702,
                40.82678641223343
               ],
               [
                -104.77268118390711,
                40.82668182941755
               ]
              ]
             ],
             "type": "Polygon"
            },
            "id": "12",
            "properties": {},
            "type": "Feature"
           },
           {
            "bbox": [
             -104.69605749915134,
             40.826406782806835,
             -104.67712739617755,
             40.834170146691925
            ],
            "geometry": {
             "coordinates": [
              [
               [
                -104.67715890705735,
                40.826406782806835
               ],
               [
                -104.67732567623032,
                40.82640724935005
               ],
               [
                -104.6866200510222,
                40.826482416323714
               ],
               [
                -104.69596734364848,
                40.82654264239537
               ],
               [
                -104.69605749915134,
                40.834141069762694
               ],
               [
                -104.69571356487675,
                40.834141450448286
               ],
               [
                -104.69294414801658,
                40.834170146691925
               ],
               [
                -104.67712739617755,
                40.83320900241427
               ],
               [
                -104.67715890705735,
                40.826406782806835
               ]
              ]
             ],
             "type": "Polygon"
            },
            "id": "19",
            "properties": {},
            "type": "Feature"
           },
           {
            "bbox": [
             -104.6866260633394,
             40.84100521099023,
             -104.67697152483112,
             40.85554414598038
            ],
            "geometry": {
             "coordinates": [
              [
               [
                -104.67707362649641,
                40.84306772255984
               ],
               [
                -104.67718824336744,
                40.84100521099023
               ],
               [
                -104.67986816163963,
                40.84101707677359
               ],
               [
                -104.68611838147761,
                40.84103248153295
               ],
               [
                -104.68616518660087,
                40.84459835056012
               ],
               [
                -104.6866260633394,
                40.84866129542699
               ],
               [
                -104.68650101441719,
                40.85538306024042
               ],
               [
                -104.685981329045,
                40.85550146086429
               ],
               [
                -104.67697152483112,
                40.85554414598038
               ],
               [
                -104.67699995162604,
                40.85045445213069
               ],
               [
                -104.67703602845572,
                40.848878073725416
               ],
               [
                -104.67707362649641,
                40.84306772255984
               ]
              ]
             ],
             "type": "Polygon"
            },
            "id": "18",
            "properties": {},
            "type": "Feature"
           },
           {
            "bbox": [
             -104.69596594581124,
             40.81209653409611,
             -104.67690990901018,
             40.826531913200775
            ],
            "geometry": {
             "coordinates": [
              [
               [
                -104.67690990901018,
                40.826404368758276
               ],
               [
                -104.69593901668884,
                40.81209653409611
               ],
               [
                -104.6959476568894,
                40.81909185900298
               ],
               [
                -104.69594832581483,
                40.819092349026704
               ],
               [
                -104.6959478712351,
                40.8191919035075
               ],
               [
                -104.69594975381654,
                40.819240310258465
               ],
               [
                -104.69591908962315,
                40.821654507933474
               ],
               [
                -104.69596594581124,
                40.826531913200775
               ],
               [
                -104.6866186546934,
                40.82647168702124
               ],
               [
                -104.67732428140174,
                40.826396519940566
               ],
               [
                -104.67715751225568,
                40.826396053395435
               ],
               [
                -104.67690990901018,
                40.826404368758276
               ]
              ]
             ],
             "type": "Polygon"
            },
            "id": "20",
            "properties": {},
            "type": "Feature"
           },
           {
            "bbox": [
             -104.75329437109006,
             40.7973612544294,
             -104.74308693872872,
             40.812311241342485
            ],
            "geometry": {
             "coordinates": [
              [
               [
                -104.75291979691411,
                40.7973612544294
               ],
               [
                -104.75299721926326,
                40.79736142018585
               ],
               [
                -104.75327711177802,
                40.79950605213274
               ],
               [
                -104.75329437109006,
                40.799947507525616
               ],
               [
                -104.75320671541908,
                40.80160939551873
               ],
               [
                -104.7530242207468,
                40.805068282467296
               ],
               [
                -104.75307207397707,
                40.8122481806101
               ],
               [
                -104.75307258123829,
                40.812311241342485
               ],
               [
                -104.75289324851275,
                40.81231085741128
               ],
               [
                -104.7527950607346,
                40.81231064708421
               ],
               [
                -104.74389214144722,
                40.8122957332163
               ],
               [
                -104.74363947590649,
                40.80757020143596
               ],
               [
                -104.74363290392267,
                40.807448571713266
               ],
               [
                -104.743514373101,
                40.80522770582432
               ],
               [
                -104.7433101815319,
                40.801587804079745
               ],
               [
                -104.74308693872872,
                40.797610036927914
               ],
               [
                -104.75291979691411,
                40.7973612544294
               ]
              ]
             ],
             "type": "Polygon"
            },
            "id": "13",
            "properties": {},
            "type": "Feature"
           }
          ],
          "type": "FeatureCollection"
         },
         "hovertemplate": "index=%{location}<br>2015=%{z}<extra></extra>",
         "locations": [
          14,
          16,
          17,
          15,
          12,
          19,
          18,
          20,
          13
         ],
         "name": "",
         "type": "choropleth",
         "z": [
          6.04,
          13.66,
          12.6,
          11.629999999999999,
          9.989999999999998,
          12.67,
          14.870000000000001,
          9.01,
          6.9
         ]
        }
       ],
       "layout": {
        "coloraxis": {
         "colorbar": {
          "title": {
           "text": "2015"
          }
         },
         "colorscale": [
          [
           0,
           "#0d0887"
          ],
          [
           0.1111111111111111,
           "#46039f"
          ],
          [
           0.2222222222222222,
           "#7201a8"
          ],
          [
           0.3333333333333333,
           "#9c179e"
          ],
          [
           0.4444444444444444,
           "#bd3786"
          ],
          [
           0.5555555555555556,
           "#d8576b"
          ],
          [
           0.6666666666666666,
           "#ed7953"
          ],
          [
           0.7777777777777778,
           "#fb9f3a"
          ],
          [
           0.8888888888888888,
           "#fdca26"
          ],
          [
           1,
           "#f0f921"
          ]
         ]
        },
        "geo": {
         "center": {},
         "domain": {
          "x": [
           0,
           1
          ],
          "y": [
           0,
           1
          ]
         },
         "fitbounds": "locations",
         "visible": false
        },
        "legend": {
         "tracegroupgap": 0
        },
        "margin": {
         "b": 0,
         "l": 0,
         "r": 0,
         "t": 0
        },
        "template": {
         "data": {
          "bar": [
           {
            "error_x": {
             "color": "#2a3f5f"
            },
            "error_y": {
             "color": "#2a3f5f"
            },
            "marker": {
             "line": {
              "color": "#E5ECF6",
              "width": 0.5
             }
            },
            "type": "bar"
           }
          ],
          "barpolar": [
           {
            "marker": {
             "line": {
              "color": "#E5ECF6",
              "width": 0.5
             }
            },
            "type": "barpolar"
           }
          ],
          "carpet": [
           {
            "aaxis": {
             "endlinecolor": "#2a3f5f",
             "gridcolor": "white",
             "linecolor": "white",
             "minorgridcolor": "white",
             "startlinecolor": "#2a3f5f"
            },
            "baxis": {
             "endlinecolor": "#2a3f5f",
             "gridcolor": "white",
             "linecolor": "white",
             "minorgridcolor": "white",
             "startlinecolor": "#2a3f5f"
            },
            "type": "carpet"
           }
          ],
          "choropleth": [
           {
            "colorbar": {
             "outlinewidth": 0,
             "ticks": ""
            },
            "type": "choropleth"
           }
          ],
          "contour": [
           {
            "colorbar": {
             "outlinewidth": 0,
             "ticks": ""
            },
            "colorscale": [
             [
              0,
              "#0d0887"
             ],
             [
              0.1111111111111111,
              "#46039f"
             ],
             [
              0.2222222222222222,
              "#7201a8"
             ],
             [
              0.3333333333333333,
              "#9c179e"
             ],
             [
              0.4444444444444444,
              "#bd3786"
             ],
             [
              0.5555555555555556,
              "#d8576b"
             ],
             [
              0.6666666666666666,
              "#ed7953"
             ],
             [
              0.7777777777777778,
              "#fb9f3a"
             ],
             [
              0.8888888888888888,
              "#fdca26"
             ],
             [
              1,
              "#f0f921"
             ]
            ],
            "type": "contour"
           }
          ],
          "contourcarpet": [
           {
            "colorbar": {
             "outlinewidth": 0,
             "ticks": ""
            },
            "type": "contourcarpet"
           }
          ],
          "heatmap": [
           {
            "colorbar": {
             "outlinewidth": 0,
             "ticks": ""
            },
            "colorscale": [
             [
              0,
              "#0d0887"
             ],
             [
              0.1111111111111111,
              "#46039f"
             ],
             [
              0.2222222222222222,
              "#7201a8"
             ],
             [
              0.3333333333333333,
              "#9c179e"
             ],
             [
              0.4444444444444444,
              "#bd3786"
             ],
             [
              0.5555555555555556,
              "#d8576b"
             ],
             [
              0.6666666666666666,
              "#ed7953"
             ],
             [
              0.7777777777777778,
              "#fb9f3a"
             ],
             [
              0.8888888888888888,
              "#fdca26"
             ],
             [
              1,
              "#f0f921"
             ]
            ],
            "type": "heatmap"
           }
          ],
          "heatmapgl": [
           {
            "colorbar": {
             "outlinewidth": 0,
             "ticks": ""
            },
            "colorscale": [
             [
              0,
              "#0d0887"
             ],
             [
              0.1111111111111111,
              "#46039f"
             ],
             [
              0.2222222222222222,
              "#7201a8"
             ],
             [
              0.3333333333333333,
              "#9c179e"
             ],
             [
              0.4444444444444444,
              "#bd3786"
             ],
             [
              0.5555555555555556,
              "#d8576b"
             ],
             [
              0.6666666666666666,
              "#ed7953"
             ],
             [
              0.7777777777777778,
              "#fb9f3a"
             ],
             [
              0.8888888888888888,
              "#fdca26"
             ],
             [
              1,
              "#f0f921"
             ]
            ],
            "type": "heatmapgl"
           }
          ],
          "histogram": [
           {
            "marker": {
             "colorbar": {
              "outlinewidth": 0,
              "ticks": ""
             }
            },
            "type": "histogram"
           }
          ],
          "histogram2d": [
           {
            "colorbar": {
             "outlinewidth": 0,
             "ticks": ""
            },
            "colorscale": [
             [
              0,
              "#0d0887"
             ],
             [
              0.1111111111111111,
              "#46039f"
             ],
             [
              0.2222222222222222,
              "#7201a8"
             ],
             [
              0.3333333333333333,
              "#9c179e"
             ],
             [
              0.4444444444444444,
              "#bd3786"
             ],
             [
              0.5555555555555556,
              "#d8576b"
             ],
             [
              0.6666666666666666,
              "#ed7953"
             ],
             [
              0.7777777777777778,
              "#fb9f3a"
             ],
             [
              0.8888888888888888,
              "#fdca26"
             ],
             [
              1,
              "#f0f921"
             ]
            ],
            "type": "histogram2d"
           }
          ],
          "histogram2dcontour": [
           {
            "colorbar": {
             "outlinewidth": 0,
             "ticks": ""
            },
            "colorscale": [
             [
              0,
              "#0d0887"
             ],
             [
              0.1111111111111111,
              "#46039f"
             ],
             [
              0.2222222222222222,
              "#7201a8"
             ],
             [
              0.3333333333333333,
              "#9c179e"
             ],
             [
              0.4444444444444444,
              "#bd3786"
             ],
             [
              0.5555555555555556,
              "#d8576b"
             ],
             [
              0.6666666666666666,
              "#ed7953"
             ],
             [
              0.7777777777777778,
              "#fb9f3a"
             ],
             [
              0.8888888888888888,
              "#fdca26"
             ],
             [
              1,
              "#f0f921"
             ]
            ],
            "type": "histogram2dcontour"
           }
          ],
          "mesh3d": [
           {
            "colorbar": {
             "outlinewidth": 0,
             "ticks": ""
            },
            "type": "mesh3d"
           }
          ],
          "parcoords": [
           {
            "line": {
             "colorbar": {
              "outlinewidth": 0,
              "ticks": ""
             }
            },
            "type": "parcoords"
           }
          ],
          "pie": [
           {
            "automargin": true,
            "type": "pie"
           }
          ],
          "scatter": [
           {
            "marker": {
             "colorbar": {
              "outlinewidth": 0,
              "ticks": ""
             }
            },
            "type": "scatter"
           }
          ],
          "scatter3d": [
           {
            "line": {
             "colorbar": {
              "outlinewidth": 0,
              "ticks": ""
             }
            },
            "marker": {
             "colorbar": {
              "outlinewidth": 0,
              "ticks": ""
             }
            },
            "type": "scatter3d"
           }
          ],
          "scattercarpet": [
           {
            "marker": {
             "colorbar": {
              "outlinewidth": 0,
              "ticks": ""
             }
            },
            "type": "scattercarpet"
           }
          ],
          "scattergeo": [
           {
            "marker": {
             "colorbar": {
              "outlinewidth": 0,
              "ticks": ""
             }
            },
            "type": "scattergeo"
           }
          ],
          "scattergl": [
           {
            "marker": {
             "colorbar": {
              "outlinewidth": 0,
              "ticks": ""
             }
            },
            "type": "scattergl"
           }
          ],
          "scattermapbox": [
           {
            "marker": {
             "colorbar": {
              "outlinewidth": 0,
              "ticks": ""
             }
            },
            "type": "scattermapbox"
           }
          ],
          "scatterpolar": [
           {
            "marker": {
             "colorbar": {
              "outlinewidth": 0,
              "ticks": ""
             }
            },
            "type": "scatterpolar"
           }
          ],
          "scatterpolargl": [
           {
            "marker": {
             "colorbar": {
              "outlinewidth": 0,
              "ticks": ""
             }
            },
            "type": "scatterpolargl"
           }
          ],
          "scatterternary": [
           {
            "marker": {
             "colorbar": {
              "outlinewidth": 0,
              "ticks": ""
             }
            },
            "type": "scatterternary"
           }
          ],
          "surface": [
           {
            "colorbar": {
             "outlinewidth": 0,
             "ticks": ""
            },
            "colorscale": [
             [
              0,
              "#0d0887"
             ],
             [
              0.1111111111111111,
              "#46039f"
             ],
             [
              0.2222222222222222,
              "#7201a8"
             ],
             [
              0.3333333333333333,
              "#9c179e"
             ],
             [
              0.4444444444444444,
              "#bd3786"
             ],
             [
              0.5555555555555556,
              "#d8576b"
             ],
             [
              0.6666666666666666,
              "#ed7953"
             ],
             [
              0.7777777777777778,
              "#fb9f3a"
             ],
             [
              0.8888888888888888,
              "#fdca26"
             ],
             [
              1,
              "#f0f921"
             ]
            ],
            "type": "surface"
           }
          ],
          "table": [
           {
            "cells": {
             "fill": {
              "color": "#EBF0F8"
             },
             "line": {
              "color": "white"
             }
            },
            "header": {
             "fill": {
              "color": "#C8D4E3"
             },
             "line": {
              "color": "white"
             }
            },
            "type": "table"
           }
          ]
         },
         "layout": {
          "annotationdefaults": {
           "arrowcolor": "#2a3f5f",
           "arrowhead": 0,
           "arrowwidth": 1
          },
          "autotypenumbers": "strict",
          "coloraxis": {
           "colorbar": {
            "outlinewidth": 0,
            "ticks": ""
           }
          },
          "colorscale": {
           "diverging": [
            [
             0,
             "#8e0152"
            ],
            [
             0.1,
             "#c51b7d"
            ],
            [
             0.2,
             "#de77ae"
            ],
            [
             0.3,
             "#f1b6da"
            ],
            [
             0.4,
             "#fde0ef"
            ],
            [
             0.5,
             "#f7f7f7"
            ],
            [
             0.6,
             "#e6f5d0"
            ],
            [
             0.7,
             "#b8e186"
            ],
            [
             0.8,
             "#7fbc41"
            ],
            [
             0.9,
             "#4d9221"
            ],
            [
             1,
             "#276419"
            ]
           ],
           "sequential": [
            [
             0,
             "#0d0887"
            ],
            [
             0.1111111111111111,
             "#46039f"
            ],
            [
             0.2222222222222222,
             "#7201a8"
            ],
            [
             0.3333333333333333,
             "#9c179e"
            ],
            [
             0.4444444444444444,
             "#bd3786"
            ],
            [
             0.5555555555555556,
             "#d8576b"
            ],
            [
             0.6666666666666666,
             "#ed7953"
            ],
            [
             0.7777777777777778,
             "#fb9f3a"
            ],
            [
             0.8888888888888888,
             "#fdca26"
            ],
            [
             1,
             "#f0f921"
            ]
           ],
           "sequentialminus": [
            [
             0,
             "#0d0887"
            ],
            [
             0.1111111111111111,
             "#46039f"
            ],
            [
             0.2222222222222222,
             "#7201a8"
            ],
            [
             0.3333333333333333,
             "#9c179e"
            ],
            [
             0.4444444444444444,
             "#bd3786"
            ],
            [
             0.5555555555555556,
             "#d8576b"
            ],
            [
             0.6666666666666666,
             "#ed7953"
            ],
            [
             0.7777777777777778,
             "#fb9f3a"
            ],
            [
             0.8888888888888888,
             "#fdca26"
            ],
            [
             1,
             "#f0f921"
            ]
           ]
          },
          "colorway": [
           "#636efa",
           "#EF553B",
           "#00cc96",
           "#ab63fa",
           "#FFA15A",
           "#19d3f3",
           "#FF6692",
           "#B6E880",
           "#FF97FF",
           "#FECB52"
          ],
          "font": {
           "color": "#2a3f5f"
          },
          "geo": {
           "bgcolor": "white",
           "lakecolor": "white",
           "landcolor": "#E5ECF6",
           "showlakes": true,
           "showland": true,
           "subunitcolor": "white"
          },
          "hoverlabel": {
           "align": "left"
          },
          "hovermode": "closest",
          "mapbox": {
           "style": "light"
          },
          "paper_bgcolor": "white",
          "plot_bgcolor": "#E5ECF6",
          "polar": {
           "angularaxis": {
            "gridcolor": "white",
            "linecolor": "white",
            "ticks": ""
           },
           "bgcolor": "#E5ECF6",
           "radialaxis": {
            "gridcolor": "white",
            "linecolor": "white",
            "ticks": ""
           }
          },
          "scene": {
           "xaxis": {
            "backgroundcolor": "#E5ECF6",
            "gridcolor": "white",
            "gridwidth": 2,
            "linecolor": "white",
            "showbackground": true,
            "ticks": "",
            "zerolinecolor": "white"
           },
           "yaxis": {
            "backgroundcolor": "#E5ECF6",
            "gridcolor": "white",
            "gridwidth": 2,
            "linecolor": "white",
            "showbackground": true,
            "ticks": "",
            "zerolinecolor": "white"
           },
           "zaxis": {
            "backgroundcolor": "#E5ECF6",
            "gridcolor": "white",
            "gridwidth": 2,
            "linecolor": "white",
            "showbackground": true,
            "ticks": "",
            "zerolinecolor": "white"
           }
          },
          "shapedefaults": {
           "line": {
            "color": "#2a3f5f"
           }
          },
          "ternary": {
           "aaxis": {
            "gridcolor": "white",
            "linecolor": "white",
            "ticks": ""
           },
           "baxis": {
            "gridcolor": "white",
            "linecolor": "white",
            "ticks": ""
           },
           "bgcolor": "#E5ECF6",
           "caxis": {
            "gridcolor": "white",
            "linecolor": "white",
            "ticks": ""
           }
          },
          "title": {
           "x": 0.05
          },
          "xaxis": {
           "automargin": true,
           "gridcolor": "white",
           "linecolor": "white",
           "ticks": "",
           "title": {
            "standoff": 15
           },
           "zerolinecolor": "white",
           "zerolinewidth": 2
          },
          "yaxis": {
           "automargin": true,
           "gridcolor": "white",
           "linecolor": "white",
           "ticks": "",
           "title": {
            "standoff": 15
           },
           "zerolinecolor": "white",
           "zerolinewidth": 2
          }
         }
        }
       }
      }
     },
     "metadata": {}
    }
   ],
   "source": [
    "shp.to_crs(pyproj.CRS.from_epsg(4326), inplace=True)\n",
    "# subdf = subdf[['Subbasin', 'geometry']]\n",
    "# subdf['geometry'] = subdf['geometry'].convex_hull\n",
    "\n",
    "shp.index = shp.sub_ids \n",
    "mfig = px.choropleth(shp,\n",
    "                geojson=shp.geometry,\n",
    "                locations=shp.index,\n",
    "                color=2015,\n",
    "                # #    projection=\"mercator\"\n",
    "                # animation_frame=\"time\",\n",
    "                # range_color=(0, 12),\n",
    "                )\n",
    "# mfig.update_layout()\n",
    "mfig.update_geos(fitbounds=\"locations\", visible=False)\n",
    "mfig.update_layout(margin={\"r\":0,\"t\":0,\"l\":0,\"b\":0})\n",
    "mfig"
   ]
  },
  {
   "cell_type": "code",
   "execution_count": 104,
   "metadata": {},
   "outputs": [
    {
     "output_type": "stream",
     "name": "stderr",
     "text": [
      "<ipython-input-104-49c29d5c1cd2>:1: UserWarning:\n\nGeometry is in a geographic CRS. Results from 'centroid' are likely incorrect. Use 'GeoSeries.to_crs()' to re-project geometries to a projected CRS before this operation.\n\n\n"
     ]
    },
    {
     "output_type": "execute_result",
     "data": {
      "text/plain": [
       "sub_ids\n",
       "14    40.807340\n",
       "16    40.830340\n",
       "17    40.845847\n",
       "15    40.790419\n",
       "12    40.823086\n",
       "19    40.830132\n",
       "18    40.848361\n",
       "20    40.821676\n",
       "13    40.804765\n",
       "dtype: float64"
      ]
     },
     "metadata": {},
     "execution_count": 104
    }
   ],
   "source": [
    "shp.centroid.y"
   ]
  },
  {
   "cell_type": "code",
   "execution_count": null,
   "metadata": {},
   "outputs": [],
   "source": []
  }
 ]
}